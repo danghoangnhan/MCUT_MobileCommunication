{
 "cells": [
  {
   "cell_type": "code",
   "execution_count": 15,
   "id": "08cf1ebe",
   "metadata": {},
   "outputs": [],
   "source": [
    "# Computes the variance.\n",
    "# Variance is useful to see how the list of values varied against the average.\n",
    "from package_from_scratch.list.statistic import variance \n",
    "import package_from_scratch.numpy.statistic as np_statistic \n",
    "import unittest\n",
    "\n",
    "np_result = np_statistic.variance([3, 7, 1, 9, 5])\n",
    "list_result =  variance([3, 7, 1, 9, 5])\n",
    "assert np_result == list_result"
   ]
  },
  {
   "cell_type": "code",
   "execution_count": 16,
   "id": "72081be9",
   "metadata": {},
   "outputs": [],
   "source": [
    "# ❑ Computes the average.\n",
    "from package_from_scratch.list.math import mean \n",
    "import package_from_scratch.numpy.statistic as np_statistic \n",
    "import unittest\n",
    "\n",
    "np_result = np_statistic.mean([1, 2, 3, 4, 5])\n",
    "list_result =  mean([1,2,3,4,5])\n",
    "assert np_result == list_result"
   ]
  },
  {
   "cell_type": "code",
   "execution_count": 17,
   "id": "0b3b3b4e",
   "metadata": {},
   "outputs": [],
   "source": [
    "# ❑ Counts the occurrence of a value in a list of values.\n",
    "from package_from_scratch.list.statistic import occurrence \n",
    "import package_from_scratch.numpy.statistic as np_statistic \n",
    "import unittest\n",
    "#Computes the average\n",
    "np_result = np_statistic.occurrence([1, 2, 3, 4, 1, 3, 1],1)\n",
    "list_result =  occurrence([1, 2, 3, 4, 1, 3, 1],1)\n",
    "assert np_result == list_result"
   ]
  },
  {
   "cell_type": "code",
   "execution_count": 18,
   "id": "80e8ec6d",
   "metadata": {},
   "outputs": [],
   "source": [
    "# ❑ Computes the mean deviation. Mean Deviation is average of distance of each value from\n",
    "# that mean(average).\n",
    "from package_from_scratch.list.statistic import mean_deviation \n",
    "import package_from_scratch.numpy.statistic as np_statistic \n",
    "import unittest\n",
    "#Computes the average\n",
    "np_result = np_statistic.mean_deviation([1, 2, 3, 4, 5])\n",
    "list_result =  mean_deviation([1,2,3,4,5])\n",
    "assert np_result == list_result"
   ]
  },
  {
   "cell_type": "code",
   "execution_count": 19,
   "id": "11076e36",
   "metadata": {},
   "outputs": [],
   "source": [
    "#❑ Computes the standard deviation.\n",
    "#  Standard Deviation is useful to give an idea about range of normal values(i.e. location of most of values).\n",
    "from package_from_scratch.list.statistic import standard_deviation \n",
    "import package_from_scratch.numpy.statistic as np_statistic \n",
    "import unittest\n",
    "#Computes the average\n",
    "np_result = np_statistic.standard_deviation([1, 2, 3, 4, 5])\n",
    "list_result =  standard_deviation([1,2,3,4,5])\n",
    "assert np_result == list_result"
   ]
  },
  {
   "cell_type": "code",
   "execution_count": 20,
   "id": "2d363086",
   "metadata": {},
   "outputs": [],
   "source": [
    "#❑ Computes the median.\n",
    "# Median is the middle value in a sorted list of values.\n",
    "from package_from_scratch.list.statistic import median \n",
    "import package_from_scratch.numpy.statistic as np_statistic \n",
    "import unittest\n",
    "#Computes the average\n",
    "np_result = np_statistic.median([1, 2, 3, 4, 5])\n",
    "list_result =  median([1,2,3,4,5])\n",
    "assert np_result == list_result"
   ]
  },
  {
   "cell_type": "code",
   "execution_count": 21,
   "id": "0421f94b",
   "metadata": {},
   "outputs": [],
   "source": [
    "#❑ Returns the max value.\n",
    "from package_from_scratch.list.math import findMax \n",
    "import package_from_scratch.numpy.statistic as np_statistic \n",
    "import unittest\n",
    "#Computes the average\n",
    "np_result = np_statistic.findMax([1, 2, 3, 4, 5])\n",
    "_,list_result =  findMax([1,2,3,4,5])\n",
    "assert np_result == list_result"
   ]
  },
  {
   "cell_type": "code",
   "execution_count": 22,
   "id": "0c50aa20",
   "metadata": {},
   "outputs": [],
   "source": [
    "#❑ Returns the min value.\n",
    "from package_from_scratch.list.statistic import findMin \n",
    "import package_from_scratch.numpy.statistic as np_statistic \n",
    "import unittest\n",
    "#Computes the average\n",
    "np_result = np_statistic.findMin([1, 2, 3, 4, 5])\n",
    "_, list_result =  findMin([1,2,3,4,5])\n",
    "assert np_result == list_result"
   ]
  },
  {
   "cell_type": "code",
   "execution_count": 23,
   "id": "ebd5a377",
   "metadata": {},
   "outputs": [],
   "source": [
    "# Returns the difference between max and min values.\n",
    "from package_from_scratch.list.statistic import rangeMaxMin \n",
    "import package_from_scratch.numpy.statistic as np_statistic \n",
    "import unittest\n",
    "#Computes the average\n",
    "np_result = np_statistic.rangeMaxMin([3, 7, 1, 9, 5])\n",
    "list_result =  rangeMaxMin([3, 7, 1, 9, 5])\n",
    "assert np_result == list_result"
   ]
  },
  {
   "cell_type": "code",
   "execution_count": 24,
   "id": "d77d305c",
   "metadata": {},
   "outputs": [],
   "source": [
    "#❑ Returns summation of all values in a list.\n",
    "from package_from_scratch.list.math import length\n",
    "import package_from_scratch.numpy.statistic as np_statistic \n",
    "import unittest\n",
    "np_result = np_statistic.length([1, 2, 3, 4, 5])\n",
    "list_result =  length([1,2,3,4,5])\n",
    "assert np_result == list_result"
   ]
  },
  {
   "cell_type": "code",
   "execution_count": 25,
   "id": "72b05c72",
   "metadata": {},
   "outputs": [],
   "source": [
    "#❑ Returns the length of list.\n",
    "from package_from_scratch.list.statistic import sumation\n",
    "import package_from_scratch.numpy.statistic as np_statistic \n",
    "import unittest\n",
    "np_result = np_statistic.sumation([1, 2, 3, 4, 5])\n",
    "list_result =  sumation([1,2,3,4,5])\n",
    "assert np_result == list_result"
   ]
  },
  {
   "cell_type": "code",
   "execution_count": 26,
   "id": "afc1ba18",
   "metadata": {},
   "outputs": [],
   "source": [
    "#❑ Sorts the list.\n",
    "from package_from_scratch.list.sort import selectionSort\n",
    "from package_from_scratch.numpy.statistic import sort\n",
    "import unittest\n",
    "np_result = sort([3, 1, 4, 2, 5])\n",
    "list_result =  sort([3, 1, 4, 2, 5])\n",
    "assert (np_result == list_result).all()"
   ]
  }
 ],
 "metadata": {
  "kernelspec": {
   "display_name": "Python 3 (ipykernel)",
   "language": "python",
   "name": "python3"
  },
  "language_info": {
   "codemirror_mode": {
    "name": "ipython",
    "version": 3
   },
   "file_extension": ".py",
   "mimetype": "text/x-python",
   "name": "python",
   "nbconvert_exporter": "python",
   "pygments_lexer": "ipython3",
   "version": "3.10.9"
  }
 },
 "nbformat": 4,
 "nbformat_minor": 5
}
