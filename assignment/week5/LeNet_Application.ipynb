{
 "cells": [
  {
   "cell_type": "code",
   "execution_count": null,
   "outputs": [],
   "source": [
    "from sys import path\n",
    "from keras.optimizers import SGD\n",
    "from sklearn.metrics import classification_report\n",
    "from sklearn.model_selection import train_test_split\n",
    "from sklearn.preprocessing import LabelBinarizer\n",
    "from package_from_scratch.CNNs.LeNet import LeNet\n",
    "from package_from_scratch.CNNs.utils import SimplePreprocessor, ImageToArrayPreprocessor, SimpleDatasetLoader\n",
    "import numpy as np\n",
    "import matplotlib.pyplot as plt\n",
    "import os.path\n",
    "print(\"[INFO] loading images...\")\n",
    "path_to_dataset = \"D:/MCUT/Neural Network/datasets/animals\"\n",
    "imagePaths = list(path(path_to_dataset))\n",
    "sp = SimplePreprocessor(28, 28, 3)\n",
    "iap = ImageToArrayPreprocessor()\n",
    "\n",
    "sdl = SimpleDatasetLoader(preprocessors=[sp, iap])\n",
    "(data, labels) = sdl.load(imagePaths, verbose=500)\n",
    "# convert values to between 0-1\n",
    "data = data.astype(\"float\") / 255.0\n",
    "\n",
    "# partition our data into training and test sets\n",
    "(trainX, testX, trainY, testY) = train_test_split(data, labels, test_size=0.25,\n",
    "                                                  random_state=42)\n",
    "\n",
    "# convert the labels from integers to vectors\n",
    "trainY = LabelBinarizer().fit_transform(trainY)\n",
    "testY = LabelBinarizer().fit_transform(testY)\n",
    "\n",
    "# initialize the optimizer and model\n",
    "print(\"[INFO] compiling model...\")\n",
    "\n",
    "# initialize stochastic gradient descent with learning rate of 0.005\n",
    "# how to tune learning rates ?????\n",
    "opt = SGD(lr=0.005)\n",
    "# Instantiate ShallowNet architecture\n",
    "# input image size 32x32\n",
    "# output class is 3\n",
    "model = LeNet.build(width=28, height=28, depth=3, classes=3)\n",
    "model.summary()\n",
    "# compile the model\n",
    "# loss function: cross-entropy and optimizer: SGD\n",
    "model.compile(loss=\"categorical_crossentropy\",\n",
    "              optimizer=opt,\n",
    "              metrics=[\"accuracy\"])\n",
    "no_epochs = 100\n",
    "no_verbose = 1\n",
    "no_batch_size = 32  # 32 images will be presented to the network at a time,\n",
    "# and a full forward and backward pass will be\n",
    "# done to update the parameters of the network\n",
    "# train the network\n",
    "print(\"[INFO] training network...\")\n",
    "\n",
    "H = model.fit(trainX, trainY, validation_data=(testX, testY),\n",
    "              batch_size=no_batch_size,\n",
    "              epochs=no_epochs,\n",
    "              verbose=no_verbose)\n",
    "\n",
    "print(\"[INFO] evaluating network...\")\n",
    "\n",
    "predictions = model.predict(testX, batch_size=no_batch_size)\n",
    "\n",
    "print(classification_report(\n",
    "    testY.argmax(axis=1),\n",
    "    predictions.argmax(axis=1),\n",
    "    target_names=[\"cat\", \"dog\", \"panda\"]\n",
    "))\n",
    "\n",
    "plt.style.use(\"ggplot\")\n",
    "plt.figure()\n",
    "plt.plot(np.arange(0, no_epochs), H.history[\"loss\"], label=\"train_loss\")\n",
    "plt.plot(np.arange(0, no_epochs), H.history[\"val_loss\"], label=\"val_loss\")\n",
    "plt.plot(np.arange(0, no_epochs), H.history[\"accuracy\"], label=\"train_acc\")\n",
    "plt.plot(np.arange(0, no_epochs), H.history[\"val_accuracy\"], label=\"val_acc\")\n",
    "plt.title(\"Training Loss and Accuracy\")\n",
    "plt.xlabel(\"Epoch #\")\n",
    "plt.ylabel(\"Loss/Accuracy\")\n",
    "plt.legend()\n",
    "plt.show()"
   ],
   "metadata": {
    "collapsed": false,
    "pycharm": {
     "name": "#%%\n"
    }
   }
  },
  {
   "cell_type": "code",
   "execution_count": 1,
   "metadata": {},
   "outputs": [
    {
     "name": "stdout",
     "output_type": "stream",
     "text": [
      "[INFO] loading images...\n"
     ]
    },
    {
     "ename": "NameError",
     "evalue": "name 'paths' is not defined",
     "output_type": "error",
     "traceback": [
      "\u001B[0;31m---------------------------------------------------------------------------\u001B[0m",
      "\u001B[0;31mNameError\u001B[0m                                 Traceback (most recent call last)",
      "Input \u001B[0;32mIn [1]\u001B[0m, in \u001B[0;36m<cell line: 4>\u001B[0;34m()\u001B[0m\n\u001B[1;32m      2\u001B[0m \u001B[38;5;28mprint\u001B[39m(\u001B[38;5;124m\"\u001B[39m\u001B[38;5;124m[INFO] loading images...\u001B[39m\u001B[38;5;124m\"\u001B[39m)\n\u001B[1;32m      3\u001B[0m path_to_dataset \u001B[38;5;241m=\u001B[39m \u001B[38;5;124m\"\u001B[39m\u001B[38;5;124mD:/MCUT/Neural Network/datasets/animals\u001B[39m\u001B[38;5;124m\"\u001B[39m\n\u001B[0;32m----> 4\u001B[0m imagePaths \u001B[38;5;241m=\u001B[39m \u001B[38;5;28mlist\u001B[39m(\u001B[43mpaths\u001B[49m\u001B[38;5;241m.\u001B[39mlist_images(path_to_dataset))\n\u001B[1;32m      5\u001B[0m sp \u001B[38;5;241m=\u001B[39m SimplePreprocessor(\u001B[38;5;241m28\u001B[39m, \u001B[38;5;241m28\u001B[39m, \u001B[38;5;241m3\u001B[39m)\n\u001B[1;32m      6\u001B[0m iap \u001B[38;5;241m=\u001B[39m ImageToArrayPreprocessor()\n",
      "\u001B[0;31mNameError\u001B[0m: name 'paths' is not defined"
     ]
    }
   ],
   "source": []
  },
  {
   "cell_type": "code",
   "execution_count": null,
   "metadata": {},
   "outputs": [],
   "source": []
  }
 ],
 "metadata": {
  "kernelspec": {
   "display_name": "Python 3 (ipykernel)",
   "language": "python",
   "name": "python3"
  },
  "language_info": {
   "codemirror_mode": {
    "name": "ipython",
    "version": 3
   },
   "file_extension": ".py",
   "mimetype": "text/x-python",
   "name": "python",
   "nbconvert_exporter": "python",
   "pygments_lexer": "ipython3",
   "version": "3.10.9"
  }
 },
 "nbformat": 4,
 "nbformat_minor": 1
}