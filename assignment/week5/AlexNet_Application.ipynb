{
 "cells": [
  {
   "cell_type": "code",
   "execution_count": 1,
   "id": "d1e42093",
   "metadata": {},
   "outputs": [
    {
     "name": "stderr",
     "output_type": "stream",
     "text": [
      "2023-04-28 11:18:25.238276: I tensorflow/core/platform/cpu_feature_guard.cc:193] This TensorFlow binary is optimized with oneAPI Deep Neural Network Library (oneDNN) to use the following CPU instructions in performance-critical operations:  SSE4.1 SSE4.2 AVX AVX2 FMA\n",
      "To enable them in other operations, rebuild TensorFlow with the appropriate compiler flags.\n"
     ]
    }
   ],
   "source": [
    "from keras.optimizers import SGD\n",
    "from sklearn.metrics import classification_report\n",
    "from sklearn.model_selection import train_test_split\n",
    "from sklearn.preprocessing import LabelBinarizer\n",
    "from package_from_scratch.CNNs.AlexNet import AlexNet\n",
    "from package_from_scratch.CNNs.preprocessing import SimplePreprocessor, ImageToArrayPreprocessor, SimpleDatasetLoader\n",
    "import numpy as np\n",
    "import  matplotlib.pyplot as plt\n"
   ]
  },
  {
   "cell_type": "code",
   "execution_count": 2,
   "id": "65e3c18a",
   "metadata": {},
   "outputs": [
    {
     "name": "stdout",
     "output_type": "stream",
     "text": [
      "[INFO] loading images...\n"
     ]
    },
    {
     "ename": "NameError",
     "evalue": "name 'paths' is not defined",
     "output_type": "error",
     "traceback": [
      "\u001b[0;31m---------------------------------------------------------------------------\u001b[0m",
      "\u001b[0;31mNameError\u001b[0m                                 Traceback (most recent call last)",
      "Input \u001b[0;32mIn [2]\u001b[0m, in \u001b[0;36m<cell line: 3>\u001b[0;34m()\u001b[0m\n\u001b[1;32m      1\u001b[0m \u001b[38;5;28mprint\u001b[39m(\u001b[38;5;124m\"\u001b[39m\u001b[38;5;124m[INFO] loading images...\u001b[39m\u001b[38;5;124m\"\u001b[39m)\n\u001b[1;32m      2\u001b[0m path_to_dataset \u001b[38;5;241m=\u001b[39m \u001b[38;5;124m\"\u001b[39m\u001b[38;5;124m../data/digit-recognier\u001b[39m\u001b[38;5;124m\"\u001b[39m\n\u001b[0;32m----> 3\u001b[0m imagePaths \u001b[38;5;241m=\u001b[39m \u001b[38;5;28mlist\u001b[39m(\u001b[43mpaths\u001b[49m\u001b[38;5;241m.\u001b[39mlist_images(path_to_dataset))\n\u001b[1;32m      4\u001b[0m sp \u001b[38;5;241m=\u001b[39m SimplePreprocessor(\u001b[38;5;241m227\u001b[39m, \u001b[38;5;241m227\u001b[39m, \u001b[38;5;241m3\u001b[39m)\n\u001b[1;32m      5\u001b[0m iap \u001b[38;5;241m=\u001b[39m ImageToArrayPreprocessor()\n",
      "\u001b[0;31mNameError\u001b[0m: name 'paths' is not defined"
     ]
    }
   ],
   "source": [
    "\n",
    "print(\"[INFO] loading images...\")\n",
    "path_to_dataset = \"../data/digit-recognier\"\n",
    "imagePaths = list(paths.list_images(path_to_dataset))\n",
    "sp = SimplePreprocessor(227, 227, 3)\n",
    "iap = ImageToArrayPreprocessor()\n",
    "\n",
    "sdl = SimpleDatasetLoader(preprocessors=[sp, iap])\n",
    "(data, labels) = sdl.load(imagePaths, verbose=500)\n",
    "# convert values to between 0-1\n",
    "data = data.astype(\"float\") / 255.0\n",
    "\n",
    "# partition our data into training and test sets\n",
    "(trainX, testX, trainY, testY) = train_test_split(data, labels, test_size=0.25,random_state=42)\n",
    "\n",
    "# convert the labels from integers to vectors\n",
    "trainY = LabelBinarizer().fit_transform(trainY)\n",
    "testY = LabelBinarizer().fit_transform(testY)\n",
    "\n",
    "# initialize the optimizer and model\n",
    "print(\"[INFO] compiling model...\")"
   ]
  },
  {
   "cell_type": "code",
   "execution_count": null,
   "id": "cd84cdf4",
   "metadata": {},
   "outputs": [],
   "source": [
    "# initialize stochastic gradient descent with learning rate of 0.005\n",
    "# how to tune learning rates ?????\n",
    "opt = SGD(lr=0.005)\n",
    "# opt = Adam(lr=0.001)\n",
    "# Instantiate AlexNet architecture\n",
    "# input image size 32x32\n",
    "# output class is 3\n",
    "model = AlexNet.build(width=227, height=227, depth=3, classes=3)\n",
    "model.summary()\n",
    "# compile the model\n",
    "# loss function: cross-entropy and optimizer: SGD\n",
    "model.compile(loss=\"categorical_crossentropy\", optimizer=opt,\n",
    "              metrics=[\"accuracy\"])\n",
    "no_epochs = 100\n",
    "no_verbose = 1\n",
    "no_batch_size = 32  # 32 images will be presented to the network at a time,\n",
    "# and a full forward and backward pass will be\n",
    "# done to update the parameters of the network\n",
    "# train the network\n",
    "print(\"[INFO] training network...\")\n",
    "\n",
    "H = model.fit(trainX, trainY, validation_data=(testX, testY),\n",
    "              batch_size=no_batch_size,\n",
    "              epochs=no_epochs,\n",
    "              verbose=no_verbose)\n",
    "\n",
    "print(\"[INFO] evaluating network...\")\n",
    "\n",
    "predictions = model.predict(testX, batch_size=no_batch_size)\n",
    "\n",
    "print(classification_report(\n",
    "    testY.argmax(axis=1),\n",
    "    predictions.argmax(axis=1),\n",
    "    target_names=[\"cat\", \"dog\", \"panda\"]\n",
    "))"
   ]
  },
  {
   "cell_type": "code",
   "execution_count": null,
   "id": "b5cc11d6",
   "metadata": {},
   "outputs": [],
   "source": [
    "plt.style.use(\"ggplot\")\n",
    "plt.figure()\n",
    "plt.plot(np.arange(0, no_epochs), H.history[\"loss\"], label=\"train_loss\")\n",
    "plt.plot(np.arange(0, no_epochs), H.history[\"val_loss\"], label=\"val_loss\")\n",
    "plt.plot(np.arange(0, no_epochs), H.history[\"accuracy\"], label=\"train_acc\")\n",
    "plt.plot(np.arange(0, no_epochs), H.history[\"val_accuracy\"], label=\"val_acc\")\n",
    "plt.title(\"Training Loss and Accuracy\")\n",
    "plt.xlabel(\"Epoch #\")\n",
    "plt.ylabel(\"Loss/Accuracy\")\n",
    "plt.legend()\n",
    "plt.show()"
   ]
  }
 ],
 "metadata": {
  "kernelspec": {
   "display_name": "Python 3 (ipykernel)",
   "language": "python",
   "name": "python3"
  },
  "language_info": {
   "codemirror_mode": {
    "name": "ipython",
    "version": 3
   },
   "file_extension": ".py",
   "mimetype": "text/x-python",
   "name": "python",
   "nbconvert_exporter": "python",
   "pygments_lexer": "ipython3",
   "version": "3.10.9"
  }
 },
 "nbformat": 4,
 "nbformat_minor": 5
}
