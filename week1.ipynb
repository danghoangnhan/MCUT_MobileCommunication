{
 "cells": [
  {
   "cell_type": "code",
   "execution_count": 1,
   "metadata": {},
   "outputs": [],
   "source": [
    "def findMax(sample):\n",
    "    index = 0\n",
    "    for i in range(len(sample)):\n",
    "        if sample[i]>sample[index]:\n",
    "            index = i\n",
    "    return index ,sample[index]"
   ]
  },
  {
   "cell_type": "code",
   "execution_count": 2,
   "metadata": {},
   "outputs": [
    {
     "name": "stdout",
     "output_type": "stream",
     "text": [
      "max index, max value (4, 5)\n"
     ]
    }
   ],
   "source": [
    "print(\"max index, max value\",findMax([1,2,3,4,5]))"
   ]
  },
  {
   "cell_type": "code",
   "execution_count": 3,
   "metadata": {},
   "outputs": [],
   "source": [
    "def findMin(sample):\n",
    "    index = 0\n",
    "    for i in range(len(sample)):\n",
    "        if sample[i]<sample[index]:\n",
    "            index = i\n",
    "    return index ,sample[index]"
   ]
  },
  {
   "cell_type": "code",
   "execution_count": 4,
   "metadata": {},
   "outputs": [
    {
     "name": "stdout",
     "output_type": "stream",
     "text": [
      "min index, min value (0, 1)\n"
     ]
    }
   ],
   "source": [
    "print(\"min index, min value\",findMin([1,2,3,4,5]))"
   ]
  },
  {
   "cell_type": "code",
   "execution_count": 5,
   "metadata": {},
   "outputs": [],
   "source": [
    "def bubbleSort(sample):\n",
    "    i = len(sample)\n",
    "    while i > 1:\n",
    "        i-=1\n",
    "        for j in range(i):\n",
    "            if sample[j]>sample[j+1]:\n",
    "                tmp = sample[j]\n",
    "                sample[j] = sample[j+1]\n",
    "                sample[j+1] = tmp\n",
    "    return sample"
   ]
  },
  {
   "cell_type": "code",
   "execution_count": 6,
   "metadata": {},
   "outputs": [
    {
     "name": "stdout",
     "output_type": "stream",
     "text": [
      "bubble sort [1, 2, 3, 4, 5]\n"
     ]
    }
   ],
   "source": [
    "print(\"bubble sort\",bubbleSort([5,4,3,2,1]))"
   ]
  },
  {
   "cell_type": "code",
   "execution_count": 7,
   "metadata": {},
   "outputs": [],
   "source": [
    "def selectionSort(sample):\n",
    "    result = []\n",
    "    while len(sample)>0 :\n",
    "        index ,minValue = findMin(sample)\n",
    "        result.append(minValue)\n",
    "        sample = sample[:index]+sample[index+1:]\n",
    "    return result"
   ]
  },
  {
   "cell_type": "code",
   "execution_count": 8,
   "metadata": {},
   "outputs": [
    {
     "name": "stdout",
     "output_type": "stream",
     "text": [
      "selection sort [1, 2, 3, 4, 5]\n"
     ]
    }
   ],
   "source": [
    "print(\"selection sort\",selectionSort([5,4,3,2,1]))"
   ]
  }
 ],
 "metadata": {
  "kernelspec": {
   "display_name": "Python 3 (ipykernel)",
   "language": "python",
   "name": "python3"
  },
  "language_info": {
   "codemirror_mode": {
    "name": "ipython",
    "version": 3
   },
   "file_extension": ".py",
   "mimetype": "text/x-python",
   "name": "python",
   "nbconvert_exporter": "python",
   "pygments_lexer": "ipython3",
   "version": "3.10.9"
  }
 },
 "nbformat": 4,
 "nbformat_minor": 2
}
