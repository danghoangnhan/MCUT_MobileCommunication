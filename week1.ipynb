{
 "cells": [
  {
   "cell_type": "code",
   "execution_count": 1,
   "metadata": {},
   "outputs": [
    {
     "name": "stdout",
     "output_type": "stream",
     "text": [
      "max index, max value (4, 5)\n"
     ]
    }
   ],
   "source": [
    "from package_from_scratch.week1 import findMax\n",
    "print(\"max index, max value\",findMax([1,2,3,4,5]))"
   ]
  },
  {
   "cell_type": "code",
   "execution_count": 2,
   "metadata": {},
   "outputs": [
    {
     "name": "stdout",
     "output_type": "stream",
     "text": [
      "min index, min value (0, 1)\n"
     ]
    }
   ],
   "source": [
    "from package_from_scratch.week1 import findMin\n",
    "print(\"min index, min value\",findMin([1,2,3,4,5]))"
   ]
  },
  {
   "cell_type": "code",
   "execution_count": 3,
   "metadata": {},
   "outputs": [
    {
     "name": "stdout",
     "output_type": "stream",
     "text": [
      "bubble sort [1, 2, 3, 4, 5]\n"
     ]
    }
   ],
   "source": [
    "from package_from_scratch.week1 import bubbleSort\n",
    "print(\"bubble sort\",bubbleSort([5,4,3,2,1]))"
   ]
  },
  {
   "cell_type": "code",
   "execution_count": 4,
   "metadata": {},
   "outputs": [
    {
     "name": "stdout",
     "output_type": "stream",
     "text": [
      "selection sort [1, 2, 3, 4, 5]\n"
     ]
    }
   ],
   "source": [
    "from package_from_scratch.week1 import selectionSort\n",
    "print(\"selection sort\",selectionSort([5,4,3,2,1]))"
   ]
  }
 ],
 "metadata": {
  "kernelspec": {
   "display_name": "Python 3 (ipykernel)",
   "language": "python",
   "name": "python3"
  },
  "language_info": {
   "codemirror_mode": {
    "name": "ipython",
    "version": 3
   },
   "file_extension": ".py",
   "mimetype": "text/x-python",
   "name": "python",
   "nbconvert_exporter": "python",
   "pygments_lexer": "ipython3",
   "version": "3.10.9"
  }
 },
 "nbformat": 4,
 "nbformat_minor": 2
}
