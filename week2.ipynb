{
 "cells": [
  {
   "cell_type": "code",
   "execution_count": 1,
   "metadata": {},
   "outputs": [
    {
     "name": "stdout",
     "output_type": "stream",
     "text": [
      "A: [[1, 2, 3, 4], [-2, 1, -8, 7], [0, 1, 1, 4]]\n"
     ]
    }
   ],
   "source": [
    "A = [\n",
    "    [1, 2, 3, 4],\n",
    "    [-2, 1, -8, 7],\n",
    "    [0, 1, 1, 4],\n",
    "]\n",
    "print(\"A:\",A)"
   ]
  },
  {
   "cell_type": "code",
   "execution_count": 2,
   "metadata": {},
   "outputs": [
    {
     "name": "stdout",
     "output_type": "stream",
     "text": [
      "tranpose of A, B: [[1, -2, 0], [2, 1, 1], [3, -8, 1], [4, 7, 4]]\n"
     ]
    }
   ],
   "source": [
    "from package_from_scratch.list.matrix import tranpose\n",
    "B = tranpose(A)\n",
    "print(\"tranpose of A, B:\",B)"
   ]
  },
  {
   "cell_type": "code",
   "execution_count": 3,
   "metadata": {},
   "outputs": [
    {
     "name": "stdout",
     "output_type": "stream",
     "text": [
      " A + A = C: [[2, 4, 6, 8], [-4, 2, -16, 14], [0, 2, 2, 8]]\n"
     ]
    }
   ],
   "source": [
    "from package_from_scratch.list.matrix import add2Matrix\n",
    "C = add2Matrix(A,A)\n",
    "print(\" A + A = C:\",C)"
   ]
  },
  {
   "cell_type": "code",
   "execution_count": 4,
   "metadata": {},
   "outputs": [
    {
     "name": "stdout",
     "output_type": "stream",
     "text": [
      "A * B = D: [[30, 4, 21, 0], [4, 118, 21, 0], [21, 21, 18, 0]]\n"
     ]
    }
   ],
   "source": [
    "from package_from_scratch.list.matrix import Mutil2Matrix\n",
    "D = Mutil2Matrix(A,B)\n",
    "print(\"A * B = D:\",D)"
   ]
  }
 ],
 "metadata": {
  "kernelspec": {
   "display_name": "Python 3 (ipykernel)",
   "language": "python",
   "name": "python3"
  },
  "language_info": {
   "codemirror_mode": {
    "name": "ipython",
    "version": 3
   },
   "file_extension": ".py",
   "mimetype": "text/x-python",
   "name": "python",
   "nbconvert_exporter": "python",
   "pygments_lexer": "ipython3",
   "version": "3.7.6"
  }
 },
 "nbformat": 4,
 "nbformat_minor": 2
}
